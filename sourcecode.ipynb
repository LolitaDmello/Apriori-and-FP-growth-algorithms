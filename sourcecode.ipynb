{
  "cells": [
    {
      "cell_type": "markdown",
      "metadata": {
        "id": "0U_NbahClsno"
      },
      "source": [
        "# PA 3: Association Analysis - Apriori/FP Growth"
      ]
    },
    {
      "cell_type": "markdown",
      "metadata": {
        "id": "o0YH1s5WmBy-"
      },
      "source": [
        "## Student Details \n",
        "\n",
        "**Student Name and ID:** Lolita louis dmello - 1002020314\n",
        "\n",
        "**Group members name and ID :-**\n",
        "\n",
        "Ashik Maraliga Venkatesh - 1002023308\n",
        "\n",
        "Sarath Kumar Devraj - 1002041910"
      ]
    },
    {
      "cell_type": "markdown",
      "metadata": {
        "id": "SihqKhAKmO7u"
      },
      "source": [
        "## Submission Instructions\n",
        "\n",
        "Rename this submission file as specified in the instructions document"
      ]
    },
    {
      "cell_type": "markdown",
      "source": [
        "# Import Libraries"
      ],
      "metadata": {
        "id": "2osqMAKF7Cyf"
      }
    },
    {
      "cell_type": "code",
      "source": [
        "import pandas as pd\n",
        "import matplotlib.pyplot as plt\n",
        "import seaborn as sns\n",
        "import numpy as np\n",
        "!pip install --upgrade mlxtend\n",
        "from mlxtend.frequent_patterns import apriori, association_rules\n",
        "from mlxtend.frequent_patterns import fpgrowth\n",
        "from mlxtend.preprocessing import TransactionEncoder"
      ],
      "metadata": {
        "id": "47cYd6FFjdBT",
        "colab": {
          "base_uri": "https://localhost:8080/"
        },
        "outputId": "ad1626a3-d446-4ab0-ab9c-00bc33e0b598"
      },
      "execution_count": 23,
      "outputs": [
        {
          "output_type": "stream",
          "name": "stderr",
          "text": [
            "/usr/local/lib/python3.9/dist-packages/ipykernel/ipkernel.py:283: DeprecationWarning: `should_run_async` will not call `transform_cell` automatically in the future. Please pass the result to `transformed_cell` argument and any exception that happen during thetransform in `preprocessing_exc_tuple` in IPython 7.17 and above.\n",
            "  and should_run_async(code)\n"
          ]
        },
        {
          "output_type": "stream",
          "name": "stdout",
          "text": [
            "Looking in indexes: https://pypi.org/simple, https://us-python.pkg.dev/colab-wheels/public/simple/\n",
            "Requirement already satisfied: mlxtend in /usr/local/lib/python3.9/dist-packages (0.22.0)\n",
            "Requirement already satisfied: scikit-learn>=1.0.2 in /usr/local/lib/python3.9/dist-packages (from mlxtend) (1.2.2)\n",
            "Requirement already satisfied: scipy>=1.2.1 in /usr/local/lib/python3.9/dist-packages (from mlxtend) (1.10.1)\n",
            "Requirement already satisfied: joblib>=0.13.2 in /usr/local/lib/python3.9/dist-packages (from mlxtend) (1.2.0)\n",
            "Requirement already satisfied: setuptools in /usr/local/lib/python3.9/dist-packages (from mlxtend) (67.6.1)\n",
            "Requirement already satisfied: pandas>=0.24.2 in /usr/local/lib/python3.9/dist-packages (from mlxtend) (1.5.3)\n",
            "Requirement already satisfied: numpy>=1.16.2 in /usr/local/lib/python3.9/dist-packages (from mlxtend) (1.22.4)\n",
            "Requirement already satisfied: matplotlib>=3.0.0 in /usr/local/lib/python3.9/dist-packages (from mlxtend) (3.7.1)\n",
            "Requirement already satisfied: contourpy>=1.0.1 in /usr/local/lib/python3.9/dist-packages (from matplotlib>=3.0.0->mlxtend) (1.0.7)\n",
            "Requirement already satisfied: kiwisolver>=1.0.1 in /usr/local/lib/python3.9/dist-packages (from matplotlib>=3.0.0->mlxtend) (1.4.4)\n",
            "Requirement already satisfied: fonttools>=4.22.0 in /usr/local/lib/python3.9/dist-packages (from matplotlib>=3.0.0->mlxtend) (4.39.3)\n",
            "Requirement already satisfied: pillow>=6.2.0 in /usr/local/lib/python3.9/dist-packages (from matplotlib>=3.0.0->mlxtend) (8.4.0)\n",
            "Requirement already satisfied: python-dateutil>=2.7 in /usr/local/lib/python3.9/dist-packages (from matplotlib>=3.0.0->mlxtend) (2.8.2)\n",
            "Requirement already satisfied: cycler>=0.10 in /usr/local/lib/python3.9/dist-packages (from matplotlib>=3.0.0->mlxtend) (0.11.0)\n",
            "Requirement already satisfied: pyparsing>=2.3.1 in /usr/local/lib/python3.9/dist-packages (from matplotlib>=3.0.0->mlxtend) (3.0.9)\n",
            "Requirement already satisfied: importlib-resources>=3.2.0 in /usr/local/lib/python3.9/dist-packages (from matplotlib>=3.0.0->mlxtend) (5.12.0)\n",
            "Requirement already satisfied: packaging>=20.0 in /usr/local/lib/python3.9/dist-packages (from matplotlib>=3.0.0->mlxtend) (23.0)\n",
            "Requirement already satisfied: pytz>=2020.1 in /usr/local/lib/python3.9/dist-packages (from pandas>=0.24.2->mlxtend) (2022.7.1)\n",
            "Requirement already satisfied: threadpoolctl>=2.0.0 in /usr/local/lib/python3.9/dist-packages (from scikit-learn>=1.0.2->mlxtend) (3.1.0)\n",
            "Requirement already satisfied: zipp>=3.1.0 in /usr/local/lib/python3.9/dist-packages (from importlib-resources>=3.2.0->matplotlib>=3.0.0->mlxtend) (3.15.0)\n",
            "Requirement already satisfied: six>=1.5 in /usr/local/lib/python3.9/dist-packages (from python-dateutil>=2.7->matplotlib>=3.0.0->mlxtend) (1.16.0)\n"
          ]
        }
      ]
    },
    {
      "cell_type": "markdown",
      "metadata": {
        "id": "p-7gZ2EVh4JH"
      },
      "source": [
        "## Tasks"
      ]
    },
    {
      "cell_type": "markdown",
      "metadata": {
        "id": "uJX_XQ_ih4JI"
      },
      "source": [
        "# 1.    Load the dataset (from the csv file)"
      ]
    },
    {
      "cell_type": "code",
      "execution_count": 24,
      "metadata": {
        "id": "lE4lddASh4JI",
        "colab": {
          "base_uri": "https://localhost:8080/"
        },
        "outputId": "7a53346e-ff19-4ab4-9f13-87cc727e2f29"
      },
      "outputs": [
        {
          "output_type": "stream",
          "name": "stderr",
          "text": [
            "/usr/local/lib/python3.9/dist-packages/ipykernel/ipkernel.py:283: DeprecationWarning: `should_run_async` will not call `transform_cell` automatically in the future. Please pass the result to `transformed_cell` argument and any exception that happen during thetransform in `preprocessing_exc_tuple` in IPython 7.17 and above.\n",
            "  and should_run_async(code)\n"
          ]
        }
      ],
      "source": [
        "# Write your code here\n",
        "df=pd.read_csv('dataset1.csv')"
      ]
    },
    {
      "cell_type": "markdown",
      "metadata": {
        "id": "7P4pjPcmh4JJ"
      },
      "source": [
        "#2.    Pre-process the dataset and provide a detailed explanation (such as Handling of null values, empty strings, unncessary trailing characters such as commas and white spaces)"
      ]
    },
    {
      "cell_type": "code",
      "execution_count": 25,
      "metadata": {
        "colab": {
          "base_uri": "https://localhost:8080/",
          "height": 261
        },
        "id": "_BsQrf8th4JJ",
        "outputId": "ca9fc88d-9ad4-4a4a-e784-5f207dc80fd0"
      },
      "outputs": [
        {
          "output_type": "stream",
          "name": "stderr",
          "text": [
            "/usr/local/lib/python3.9/dist-packages/ipykernel/ipkernel.py:283: DeprecationWarning: `should_run_async` will not call `transform_cell` automatically in the future. Please pass the result to `transformed_cell` argument and any exception that happen during thetransform in `preprocessing_exc_tuple` in IPython 7.17 and above.\n",
            "  and should_run_async(code)\n"
          ]
        },
        {
          "output_type": "execute_result",
          "data": {
            "text/plain": [
              "   Tid                                              items\n",
              "0    0  Bread, Corn, Dill, Ice cream, Sugar, Yogurt, c...\n",
              "1    1                                             Milk, \n",
              "2    2  Apple, Butter, Dill, Ice cream, Milk, Yogurt, ...\n",
              "3    3        Butter, Cheese, Dill, Milk, Nutmeg, Onion, \n",
              "4    4                                     Apple, Bread, "
            ],
            "text/html": [
              "\n",
              "  <div id=\"df-c409cf2d-190f-4141-9377-48b20e9a6ef6\">\n",
              "    <div class=\"colab-df-container\">\n",
              "      <div>\n",
              "<style scoped>\n",
              "    .dataframe tbody tr th:only-of-type {\n",
              "        vertical-align: middle;\n",
              "    }\n",
              "\n",
              "    .dataframe tbody tr th {\n",
              "        vertical-align: top;\n",
              "    }\n",
              "\n",
              "    .dataframe thead th {\n",
              "        text-align: right;\n",
              "    }\n",
              "</style>\n",
              "<table border=\"1\" class=\"dataframe\">\n",
              "  <thead>\n",
              "    <tr style=\"text-align: right;\">\n",
              "      <th></th>\n",
              "      <th>Tid</th>\n",
              "      <th>items</th>\n",
              "    </tr>\n",
              "  </thead>\n",
              "  <tbody>\n",
              "    <tr>\n",
              "      <th>0</th>\n",
              "      <td>0</td>\n",
              "      <td>Bread, Corn, Dill, Ice cream, Sugar, Yogurt, c...</td>\n",
              "    </tr>\n",
              "    <tr>\n",
              "      <th>1</th>\n",
              "      <td>1</td>\n",
              "      <td>Milk,</td>\n",
              "    </tr>\n",
              "    <tr>\n",
              "      <th>2</th>\n",
              "      <td>2</td>\n",
              "      <td>Apple, Butter, Dill, Ice cream, Milk, Yogurt, ...</td>\n",
              "    </tr>\n",
              "    <tr>\n",
              "      <th>3</th>\n",
              "      <td>3</td>\n",
              "      <td>Butter, Cheese, Dill, Milk, Nutmeg, Onion,</td>\n",
              "    </tr>\n",
              "    <tr>\n",
              "      <th>4</th>\n",
              "      <td>4</td>\n",
              "      <td>Apple, Bread,</td>\n",
              "    </tr>\n",
              "  </tbody>\n",
              "</table>\n",
              "</div>\n",
              "      <button class=\"colab-df-convert\" onclick=\"convertToInteractive('df-c409cf2d-190f-4141-9377-48b20e9a6ef6')\"\n",
              "              title=\"Convert this dataframe to an interactive table.\"\n",
              "              style=\"display:none;\">\n",
              "        \n",
              "  <svg xmlns=\"http://www.w3.org/2000/svg\" height=\"24px\"viewBox=\"0 0 24 24\"\n",
              "       width=\"24px\">\n",
              "    <path d=\"M0 0h24v24H0V0z\" fill=\"none\"/>\n",
              "    <path d=\"M18.56 5.44l.94 2.06.94-2.06 2.06-.94-2.06-.94-.94-2.06-.94 2.06-2.06.94zm-11 1L8.5 8.5l.94-2.06 2.06-.94-2.06-.94L8.5 2.5l-.94 2.06-2.06.94zm10 10l.94 2.06.94-2.06 2.06-.94-2.06-.94-.94-2.06-.94 2.06-2.06.94z\"/><path d=\"M17.41 7.96l-1.37-1.37c-.4-.4-.92-.59-1.43-.59-.52 0-1.04.2-1.43.59L10.3 9.45l-7.72 7.72c-.78.78-.78 2.05 0 2.83L4 21.41c.39.39.9.59 1.41.59.51 0 1.02-.2 1.41-.59l7.78-7.78 2.81-2.81c.8-.78.8-2.07 0-2.86zM5.41 20L4 18.59l7.72-7.72 1.47 1.35L5.41 20z\"/>\n",
              "  </svg>\n",
              "      </button>\n",
              "      \n",
              "  <style>\n",
              "    .colab-df-container {\n",
              "      display:flex;\n",
              "      flex-wrap:wrap;\n",
              "      gap: 12px;\n",
              "    }\n",
              "\n",
              "    .colab-df-convert {\n",
              "      background-color: #E8F0FE;\n",
              "      border: none;\n",
              "      border-radius: 50%;\n",
              "      cursor: pointer;\n",
              "      display: none;\n",
              "      fill: #1967D2;\n",
              "      height: 32px;\n",
              "      padding: 0 0 0 0;\n",
              "      width: 32px;\n",
              "    }\n",
              "\n",
              "    .colab-df-convert:hover {\n",
              "      background-color: #E2EBFA;\n",
              "      box-shadow: 0px 1px 2px rgba(60, 64, 67, 0.3), 0px 1px 3px 1px rgba(60, 64, 67, 0.15);\n",
              "      fill: #174EA6;\n",
              "    }\n",
              "\n",
              "    [theme=dark] .colab-df-convert {\n",
              "      background-color: #3B4455;\n",
              "      fill: #D2E3FC;\n",
              "    }\n",
              "\n",
              "    [theme=dark] .colab-df-convert:hover {\n",
              "      background-color: #434B5C;\n",
              "      box-shadow: 0px 1px 3px 1px rgba(0, 0, 0, 0.15);\n",
              "      filter: drop-shadow(0px 1px 2px rgba(0, 0, 0, 0.3));\n",
              "      fill: #FFFFFF;\n",
              "    }\n",
              "  </style>\n",
              "\n",
              "      <script>\n",
              "        const buttonEl =\n",
              "          document.querySelector('#df-c409cf2d-190f-4141-9377-48b20e9a6ef6 button.colab-df-convert');\n",
              "        buttonEl.style.display =\n",
              "          google.colab.kernel.accessAllowed ? 'block' : 'none';\n",
              "\n",
              "        async function convertToInteractive(key) {\n",
              "          const element = document.querySelector('#df-c409cf2d-190f-4141-9377-48b20e9a6ef6');\n",
              "          const dataTable =\n",
              "            await google.colab.kernel.invokeFunction('convertToInteractive',\n",
              "                                                     [key], {});\n",
              "          if (!dataTable) return;\n",
              "\n",
              "          const docLinkHtml = 'Like what you see? Visit the ' +\n",
              "            '<a target=\"_blank\" href=https://colab.research.google.com/notebooks/data_table.ipynb>data table notebook</a>'\n",
              "            + ' to learn more about interactive tables.';\n",
              "          element.innerHTML = '';\n",
              "          dataTable['output_type'] = 'display_data';\n",
              "          await google.colab.output.renderOutput(dataTable, element);\n",
              "          const docLink = document.createElement('div');\n",
              "          docLink.innerHTML = docLinkHtml;\n",
              "          element.appendChild(docLink);\n",
              "        }\n",
              "      </script>\n",
              "    </div>\n",
              "  </div>\n",
              "  "
            ]
          },
          "metadata": {},
          "execution_count": 25
        }
      ],
      "source": [
        "# Write your code here\n",
        "df.head()"
      ]
    },
    {
      "cell_type": "code",
      "source": [
        "# convert all item names to lowercase\n",
        "df['items'] = df['items'].str.lower()"
      ],
      "metadata": {
        "colab": {
          "base_uri": "https://localhost:8080/"
        },
        "id": "0L-Cu_ZPp8Vz",
        "outputId": "c14880a6-1f02-4a8e-f8bf-f4ab7d15489c"
      },
      "execution_count": 26,
      "outputs": [
        {
          "output_type": "stream",
          "name": "stderr",
          "text": [
            "/usr/local/lib/python3.9/dist-packages/ipykernel/ipkernel.py:283: DeprecationWarning: `should_run_async` will not call `transform_cell` automatically in the future. Please pass the result to `transformed_cell` argument and any exception that happen during thetransform in `preprocessing_exc_tuple` in IPython 7.17 and above.\n",
            "  and should_run_async(code)\n"
          ]
        }
      ]
    },
    {
      "cell_type": "markdown",
      "source": [
        "#checking for null values"
      ],
      "metadata": {
        "id": "UbuxNGnNisdy"
      }
    },
    {
      "cell_type": "code",
      "source": [
        "# check if the missing values exist\n",
        "print(df.isnull().sum())"
      ],
      "metadata": {
        "colab": {
          "base_uri": "https://localhost:8080/"
        },
        "id": "sleZUhtgc_9L",
        "outputId": "dfa3f98a-dafc-4276-c7d5-1829e576c959"
      },
      "execution_count": 27,
      "outputs": [
        {
          "output_type": "stream",
          "name": "stdout",
          "text": [
            "Tid      0\n",
            "items    0\n",
            "dtype: int64\n"
          ]
        },
        {
          "output_type": "stream",
          "name": "stderr",
          "text": [
            "/usr/local/lib/python3.9/dist-packages/ipykernel/ipkernel.py:283: DeprecationWarning: `should_run_async` will not call `transform_cell` automatically in the future. Please pass the result to `transformed_cell` argument and any exception that happen during thetransform in `preprocessing_exc_tuple` in IPython 7.17 and above.\n",
            "  and should_run_async(code)\n"
          ]
        }
      ]
    },
    {
      "cell_type": "markdown",
      "source": [
        "The given dataset appears to be clean and does not contain any null values or empty strings."
      ],
      "metadata": {
        "id": "USbqUdwOd7KI"
      }
    },
    {
      "cell_type": "markdown",
      "source": [
        "# Remove unnecessary trailing characters: In the items column, there are trailing commas that are not needed"
      ],
      "metadata": {
        "id": "kpoLMo0jixKV"
      }
    },
    {
      "cell_type": "markdown",
      "source": [
        "There are some unnecessary trailing characters such as commas and white spaces that need to be removed. These characters can cause issues when analyzing the data and can also affect the accuracy of frequent itemset mining algorithms"
      ],
      "metadata": {
        "id": "cpc0PnENd1FV"
      }
    },
    {
      "cell_type": "markdown",
      "source": [
        "# Remove empty strings and duplicate values"
      ],
      "metadata": {
        "id": "3ExBz65vjeyj"
      }
    },
    {
      "cell_type": "code",
      "source": [
        "# This will replace any empty strings with NaN values and then drop the rows with NaN values.\n",
        "df.replace('', np.nan, inplace=True)\n",
        "df.dropna(inplace=True)"
      ],
      "metadata": {
        "id": "Ugd7rzHEjib8",
        "colab": {
          "base_uri": "https://localhost:8080/"
        },
        "outputId": "dc61abe8-cf20-4ba1-f114-2965cb6b753b"
      },
      "execution_count": 28,
      "outputs": [
        {
          "output_type": "stream",
          "name": "stderr",
          "text": [
            "/usr/local/lib/python3.9/dist-packages/ipykernel/ipkernel.py:283: DeprecationWarning: `should_run_async` will not call `transform_cell` automatically in the future. Please pass the result to `transformed_cell` argument and any exception that happen during thetransform in `preprocessing_exc_tuple` in IPython 7.17 and above.\n",
            "  and should_run_async(code)\n"
          ]
        }
      ]
    },
    {
      "cell_type": "code",
      "source": [
        "# remove duplicates\n",
        "df = df.drop_duplicates(subset=['items'])"
      ],
      "metadata": {
        "colab": {
          "base_uri": "https://localhost:8080/"
        },
        "id": "bcA72dDwpd3s",
        "outputId": "7f12bd2c-fb73-4c26-ceaa-7806fc53f0a3"
      },
      "execution_count": 29,
      "outputs": [
        {
          "output_type": "stream",
          "name": "stderr",
          "text": [
            "/usr/local/lib/python3.9/dist-packages/ipykernel/ipkernel.py:283: DeprecationWarning: `should_run_async` will not call `transform_cell` automatically in the future. Please pass the result to `transformed_cell` argument and any exception that happen during thetransform in `preprocessing_exc_tuple` in IPython 7.17 and above.\n",
            "  and should_run_async(code)\n"
          ]
        }
      ]
    },
    {
      "cell_type": "markdown",
      "source": [
        "# Remove leading and trailing whitespaces"
      ],
      "metadata": {
        "id": "G4N91jQIkAPB"
      }
    },
    {
      "cell_type": "code",
      "source": [
        "# Remove trailing commas and white spaces from the items column using the strip() function\n",
        "df['items'] = df['items'].apply(lambda x: x.rstrip(', '))\n"
      ],
      "metadata": {
        "id": "4PWZFdC98qWZ",
        "colab": {
          "base_uri": "https://localhost:8080/"
        },
        "outputId": "fefc22d6-3aa2-4ea3-d1a8-5eddbb114010"
      },
      "execution_count": 30,
      "outputs": [
        {
          "output_type": "stream",
          "name": "stderr",
          "text": [
            "/usr/local/lib/python3.9/dist-packages/ipykernel/ipkernel.py:283: DeprecationWarning: `should_run_async` will not call `transform_cell` automatically in the future. Please pass the result to `transformed_cell` argument and any exception that happen during thetransform in `preprocessing_exc_tuple` in IPython 7.17 and above.\n",
            "  and should_run_async(code)\n",
            "<ipython-input-30-de29172185fa>:2: SettingWithCopyWarning: \n",
            "A value is trying to be set on a copy of a slice from a DataFrame.\n",
            "Try using .loc[row_indexer,col_indexer] = value instead\n",
            "\n",
            "See the caveats in the documentation: https://pandas.pydata.org/pandas-docs/stable/user_guide/indexing.html#returning-a-view-versus-a-copy\n",
            "  df['items'] = df['items'].apply(lambda x: x.rstrip(', '))\n"
          ]
        }
      ]
    },
    {
      "cell_type": "code",
      "source": [
        "# Print the preprocessed dataset\n",
        "df.head()"
      ],
      "metadata": {
        "colab": {
          "base_uri": "https://localhost:8080/",
          "height": 261
        },
        "id": "q_th9DB8kZNS",
        "outputId": "69c5a1ad-52d5-4f6a-d079-26b7a67ed9b8"
      },
      "execution_count": 31,
      "outputs": [
        {
          "output_type": "stream",
          "name": "stderr",
          "text": [
            "/usr/local/lib/python3.9/dist-packages/ipykernel/ipkernel.py:283: DeprecationWarning: `should_run_async` will not call `transform_cell` automatically in the future. Please pass the result to `transformed_cell` argument and any exception that happen during thetransform in `preprocessing_exc_tuple` in IPython 7.17 and above.\n",
            "  and should_run_async(code)\n"
          ]
        },
        {
          "output_type": "execute_result",
          "data": {
            "text/plain": [
              "   Tid                                              items\n",
              "0    0  bread, corn, dill, ice cream, sugar, yogurt, c...\n",
              "1    1                                               milk\n",
              "2    2  apple, butter, dill, ice cream, milk, yogurt, ...\n",
              "3    3          butter, cheese, dill, milk, nutmeg, onion\n",
              "4    4                                       apple, bread"
            ],
            "text/html": [
              "\n",
              "  <div id=\"df-00898b22-da73-405f-9532-b52d96cf91e8\">\n",
              "    <div class=\"colab-df-container\">\n",
              "      <div>\n",
              "<style scoped>\n",
              "    .dataframe tbody tr th:only-of-type {\n",
              "        vertical-align: middle;\n",
              "    }\n",
              "\n",
              "    .dataframe tbody tr th {\n",
              "        vertical-align: top;\n",
              "    }\n",
              "\n",
              "    .dataframe thead th {\n",
              "        text-align: right;\n",
              "    }\n",
              "</style>\n",
              "<table border=\"1\" class=\"dataframe\">\n",
              "  <thead>\n",
              "    <tr style=\"text-align: right;\">\n",
              "      <th></th>\n",
              "      <th>Tid</th>\n",
              "      <th>items</th>\n",
              "    </tr>\n",
              "  </thead>\n",
              "  <tbody>\n",
              "    <tr>\n",
              "      <th>0</th>\n",
              "      <td>0</td>\n",
              "      <td>bread, corn, dill, ice cream, sugar, yogurt, c...</td>\n",
              "    </tr>\n",
              "    <tr>\n",
              "      <th>1</th>\n",
              "      <td>1</td>\n",
              "      <td>milk</td>\n",
              "    </tr>\n",
              "    <tr>\n",
              "      <th>2</th>\n",
              "      <td>2</td>\n",
              "      <td>apple, butter, dill, ice cream, milk, yogurt, ...</td>\n",
              "    </tr>\n",
              "    <tr>\n",
              "      <th>3</th>\n",
              "      <td>3</td>\n",
              "      <td>butter, cheese, dill, milk, nutmeg, onion</td>\n",
              "    </tr>\n",
              "    <tr>\n",
              "      <th>4</th>\n",
              "      <td>4</td>\n",
              "      <td>apple, bread</td>\n",
              "    </tr>\n",
              "  </tbody>\n",
              "</table>\n",
              "</div>\n",
              "      <button class=\"colab-df-convert\" onclick=\"convertToInteractive('df-00898b22-da73-405f-9532-b52d96cf91e8')\"\n",
              "              title=\"Convert this dataframe to an interactive table.\"\n",
              "              style=\"display:none;\">\n",
              "        \n",
              "  <svg xmlns=\"http://www.w3.org/2000/svg\" height=\"24px\"viewBox=\"0 0 24 24\"\n",
              "       width=\"24px\">\n",
              "    <path d=\"M0 0h24v24H0V0z\" fill=\"none\"/>\n",
              "    <path d=\"M18.56 5.44l.94 2.06.94-2.06 2.06-.94-2.06-.94-.94-2.06-.94 2.06-2.06.94zm-11 1L8.5 8.5l.94-2.06 2.06-.94-2.06-.94L8.5 2.5l-.94 2.06-2.06.94zm10 10l.94 2.06.94-2.06 2.06-.94-2.06-.94-.94-2.06-.94 2.06-2.06.94z\"/><path d=\"M17.41 7.96l-1.37-1.37c-.4-.4-.92-.59-1.43-.59-.52 0-1.04.2-1.43.59L10.3 9.45l-7.72 7.72c-.78.78-.78 2.05 0 2.83L4 21.41c.39.39.9.59 1.41.59.51 0 1.02-.2 1.41-.59l7.78-7.78 2.81-2.81c.8-.78.8-2.07 0-2.86zM5.41 20L4 18.59l7.72-7.72 1.47 1.35L5.41 20z\"/>\n",
              "  </svg>\n",
              "      </button>\n",
              "      \n",
              "  <style>\n",
              "    .colab-df-container {\n",
              "      display:flex;\n",
              "      flex-wrap:wrap;\n",
              "      gap: 12px;\n",
              "    }\n",
              "\n",
              "    .colab-df-convert {\n",
              "      background-color: #E8F0FE;\n",
              "      border: none;\n",
              "      border-radius: 50%;\n",
              "      cursor: pointer;\n",
              "      display: none;\n",
              "      fill: #1967D2;\n",
              "      height: 32px;\n",
              "      padding: 0 0 0 0;\n",
              "      width: 32px;\n",
              "    }\n",
              "\n",
              "    .colab-df-convert:hover {\n",
              "      background-color: #E2EBFA;\n",
              "      box-shadow: 0px 1px 2px rgba(60, 64, 67, 0.3), 0px 1px 3px 1px rgba(60, 64, 67, 0.15);\n",
              "      fill: #174EA6;\n",
              "    }\n",
              "\n",
              "    [theme=dark] .colab-df-convert {\n",
              "      background-color: #3B4455;\n",
              "      fill: #D2E3FC;\n",
              "    }\n",
              "\n",
              "    [theme=dark] .colab-df-convert:hover {\n",
              "      background-color: #434B5C;\n",
              "      box-shadow: 0px 1px 3px 1px rgba(0, 0, 0, 0.15);\n",
              "      filter: drop-shadow(0px 1px 2px rgba(0, 0, 0, 0.3));\n",
              "      fill: #FFFFFF;\n",
              "    }\n",
              "  </style>\n",
              "\n",
              "      <script>\n",
              "        const buttonEl =\n",
              "          document.querySelector('#df-00898b22-da73-405f-9532-b52d96cf91e8 button.colab-df-convert');\n",
              "        buttonEl.style.display =\n",
              "          google.colab.kernel.accessAllowed ? 'block' : 'none';\n",
              "\n",
              "        async function convertToInteractive(key) {\n",
              "          const element = document.querySelector('#df-00898b22-da73-405f-9532-b52d96cf91e8');\n",
              "          const dataTable =\n",
              "            await google.colab.kernel.invokeFunction('convertToInteractive',\n",
              "                                                     [key], {});\n",
              "          if (!dataTable) return;\n",
              "\n",
              "          const docLinkHtml = 'Like what you see? Visit the ' +\n",
              "            '<a target=\"_blank\" href=https://colab.research.google.com/notebooks/data_table.ipynb>data table notebook</a>'\n",
              "            + ' to learn more about interactive tables.';\n",
              "          element.innerHTML = '';\n",
              "          dataTable['output_type'] = 'display_data';\n",
              "          await google.colab.output.renderOutput(dataTable, element);\n",
              "          const docLink = document.createElement('div');\n",
              "          docLink.innerHTML = docLinkHtml;\n",
              "          element.appendChild(docLink);\n",
              "        }\n",
              "      </script>\n",
              "    </div>\n",
              "  </div>\n",
              "  "
            ]
          },
          "metadata": {},
          "execution_count": 31
        }
      ]
    },
    {
      "cell_type": "markdown",
      "metadata": {
        "id": "Fug_x2emh4JJ"
      },
      "source": [
        "#3.    Encode the dataset"
      ]
    },
    {
      "cell_type": "markdown",
      "source": [
        "To encode the dataset, we need to convert the categorical values in the items column to numerical values. One way to do this is to use one-hot encoding, where we create a binary column for each unique item in the dataset, with a value of 1 if the item is present in the transaction and 0 otherwise."
      ],
      "metadata": {
        "id": "B1unsBSrleJM"
      }
    },
    {
      "cell_type": "markdown",
      "source": [
        "This code will split the items column by commas, create a set of unique items in the dataset, create a dictionary mapping each unique item to a numerical value, and create a binary column for each unique item with a value of 1 if the item is present in the transaction and 0 otherwise. The original items column is then dropped, and the encoded dataset is saved to a new CSV file."
      ],
      "metadata": {
        "id": "BdYGq3Epl0Fr"
      }
    },
    {
      "cell_type": "code",
      "source": [
        "# Split the items column by commas\n",
        "df['items'] = df['items'].str.split(', ')\n",
        "\n",
        "# Create a set of unique items in the dataset\n",
        "unique_items = set(item for transaction in df['items'] for item in transaction)"
      ],
      "metadata": {
        "colab": {
          "base_uri": "https://localhost:8080/"
        },
        "id": "uGoZZk6Fn14C",
        "outputId": "f54b2796-59bb-4ca5-8303-3a180adcd335"
      },
      "execution_count": 32,
      "outputs": [
        {
          "output_type": "stream",
          "name": "stderr",
          "text": [
            "/usr/local/lib/python3.9/dist-packages/ipykernel/ipkernel.py:283: DeprecationWarning: `should_run_async` will not call `transform_cell` automatically in the future. Please pass the result to `transformed_cell` argument and any exception that happen during thetransform in `preprocessing_exc_tuple` in IPython 7.17 and above.\n",
            "  and should_run_async(code)\n",
            "<ipython-input-32-4e5ec1b02aed>:2: SettingWithCopyWarning: \n",
            "A value is trying to be set on a copy of a slice from a DataFrame.\n",
            "Try using .loc[row_indexer,col_indexer] = value instead\n",
            "\n",
            "See the caveats in the documentation: https://pandas.pydata.org/pandas-docs/stable/user_guide/indexing.html#returning-a-view-versus-a-copy\n",
            "  df['items'] = df['items'].str.split(', ')\n"
          ]
        }
      ]
    },
    {
      "cell_type": "code",
      "source": [
        "# Create a dictionary mapping each unique item to a numerical value\n",
        "item_dict = {item: i for i, item in enumerate(sorted(unique_items))}\n",
        "\n",
        "# Create a binary column for each unique item\n",
        "for item in item_dict.keys():\n",
        "    df[item] = df['items'].apply(lambda x: int(item in x))\n",
        "\n",
        "# Drop the original items column\n",
        "df.drop('items', axis=1, inplace=True)\n"
      ],
      "metadata": {
        "id": "WIyfFxwylB0L",
        "colab": {
          "base_uri": "https://localhost:8080/"
        },
        "outputId": "ca0c8c24-c2d9-4c60-f303-5b5bd74f2be5"
      },
      "execution_count": 33,
      "outputs": [
        {
          "output_type": "stream",
          "name": "stderr",
          "text": [
            "/usr/local/lib/python3.9/dist-packages/ipykernel/ipkernel.py:283: DeprecationWarning: `should_run_async` will not call `transform_cell` automatically in the future. Please pass the result to `transformed_cell` argument and any exception that happen during thetransform in `preprocessing_exc_tuple` in IPython 7.17 and above.\n",
            "  and should_run_async(code)\n",
            "<ipython-input-33-e3a6ef6bda81>:6: SettingWithCopyWarning: \n",
            "A value is trying to be set on a copy of a slice from a DataFrame.\n",
            "Try using .loc[row_indexer,col_indexer] = value instead\n",
            "\n",
            "See the caveats in the documentation: https://pandas.pydata.org/pandas-docs/stable/user_guide/indexing.html#returning-a-view-versus-a-copy\n",
            "  df[item] = df['items'].apply(lambda x: int(item in x))\n",
            "<ipython-input-33-e3a6ef6bda81>:6: SettingWithCopyWarning: \n",
            "A value is trying to be set on a copy of a slice from a DataFrame.\n",
            "Try using .loc[row_indexer,col_indexer] = value instead\n",
            "\n",
            "See the caveats in the documentation: https://pandas.pydata.org/pandas-docs/stable/user_guide/indexing.html#returning-a-view-versus-a-copy\n",
            "  df[item] = df['items'].apply(lambda x: int(item in x))\n",
            "<ipython-input-33-e3a6ef6bda81>:6: SettingWithCopyWarning: \n",
            "A value is trying to be set on a copy of a slice from a DataFrame.\n",
            "Try using .loc[row_indexer,col_indexer] = value instead\n",
            "\n",
            "See the caveats in the documentation: https://pandas.pydata.org/pandas-docs/stable/user_guide/indexing.html#returning-a-view-versus-a-copy\n",
            "  df[item] = df['items'].apply(lambda x: int(item in x))\n",
            "<ipython-input-33-e3a6ef6bda81>:6: SettingWithCopyWarning: \n",
            "A value is trying to be set on a copy of a slice from a DataFrame.\n",
            "Try using .loc[row_indexer,col_indexer] = value instead\n",
            "\n",
            "See the caveats in the documentation: https://pandas.pydata.org/pandas-docs/stable/user_guide/indexing.html#returning-a-view-versus-a-copy\n",
            "  df[item] = df['items'].apply(lambda x: int(item in x))\n",
            "<ipython-input-33-e3a6ef6bda81>:6: SettingWithCopyWarning: \n",
            "A value is trying to be set on a copy of a slice from a DataFrame.\n",
            "Try using .loc[row_indexer,col_indexer] = value instead\n",
            "\n",
            "See the caveats in the documentation: https://pandas.pydata.org/pandas-docs/stable/user_guide/indexing.html#returning-a-view-versus-a-copy\n",
            "  df[item] = df['items'].apply(lambda x: int(item in x))\n",
            "<ipython-input-33-e3a6ef6bda81>:6: SettingWithCopyWarning: \n",
            "A value is trying to be set on a copy of a slice from a DataFrame.\n",
            "Try using .loc[row_indexer,col_indexer] = value instead\n",
            "\n",
            "See the caveats in the documentation: https://pandas.pydata.org/pandas-docs/stable/user_guide/indexing.html#returning-a-view-versus-a-copy\n",
            "  df[item] = df['items'].apply(lambda x: int(item in x))\n",
            "<ipython-input-33-e3a6ef6bda81>:6: SettingWithCopyWarning: \n",
            "A value is trying to be set on a copy of a slice from a DataFrame.\n",
            "Try using .loc[row_indexer,col_indexer] = value instead\n",
            "\n",
            "See the caveats in the documentation: https://pandas.pydata.org/pandas-docs/stable/user_guide/indexing.html#returning-a-view-versus-a-copy\n",
            "  df[item] = df['items'].apply(lambda x: int(item in x))\n",
            "<ipython-input-33-e3a6ef6bda81>:6: SettingWithCopyWarning: \n",
            "A value is trying to be set on a copy of a slice from a DataFrame.\n",
            "Try using .loc[row_indexer,col_indexer] = value instead\n",
            "\n",
            "See the caveats in the documentation: https://pandas.pydata.org/pandas-docs/stable/user_guide/indexing.html#returning-a-view-versus-a-copy\n",
            "  df[item] = df['items'].apply(lambda x: int(item in x))\n",
            "<ipython-input-33-e3a6ef6bda81>:6: SettingWithCopyWarning: \n",
            "A value is trying to be set on a copy of a slice from a DataFrame.\n",
            "Try using .loc[row_indexer,col_indexer] = value instead\n",
            "\n",
            "See the caveats in the documentation: https://pandas.pydata.org/pandas-docs/stable/user_guide/indexing.html#returning-a-view-versus-a-copy\n",
            "  df[item] = df['items'].apply(lambda x: int(item in x))\n",
            "<ipython-input-33-e3a6ef6bda81>:6: SettingWithCopyWarning: \n",
            "A value is trying to be set on a copy of a slice from a DataFrame.\n",
            "Try using .loc[row_indexer,col_indexer] = value instead\n",
            "\n",
            "See the caveats in the documentation: https://pandas.pydata.org/pandas-docs/stable/user_guide/indexing.html#returning-a-view-versus-a-copy\n",
            "  df[item] = df['items'].apply(lambda x: int(item in x))\n",
            "<ipython-input-33-e3a6ef6bda81>:6: SettingWithCopyWarning: \n",
            "A value is trying to be set on a copy of a slice from a DataFrame.\n",
            "Try using .loc[row_indexer,col_indexer] = value instead\n",
            "\n",
            "See the caveats in the documentation: https://pandas.pydata.org/pandas-docs/stable/user_guide/indexing.html#returning-a-view-versus-a-copy\n",
            "  df[item] = df['items'].apply(lambda x: int(item in x))\n",
            "<ipython-input-33-e3a6ef6bda81>:6: SettingWithCopyWarning: \n",
            "A value is trying to be set on a copy of a slice from a DataFrame.\n",
            "Try using .loc[row_indexer,col_indexer] = value instead\n",
            "\n",
            "See the caveats in the documentation: https://pandas.pydata.org/pandas-docs/stable/user_guide/indexing.html#returning-a-view-versus-a-copy\n",
            "  df[item] = df['items'].apply(lambda x: int(item in x))\n",
            "<ipython-input-33-e3a6ef6bda81>:6: SettingWithCopyWarning: \n",
            "A value is trying to be set on a copy of a slice from a DataFrame.\n",
            "Try using .loc[row_indexer,col_indexer] = value instead\n",
            "\n",
            "See the caveats in the documentation: https://pandas.pydata.org/pandas-docs/stable/user_guide/indexing.html#returning-a-view-versus-a-copy\n",
            "  df[item] = df['items'].apply(lambda x: int(item in x))\n",
            "<ipython-input-33-e3a6ef6bda81>:6: SettingWithCopyWarning: \n",
            "A value is trying to be set on a copy of a slice from a DataFrame.\n",
            "Try using .loc[row_indexer,col_indexer] = value instead\n",
            "\n",
            "See the caveats in the documentation: https://pandas.pydata.org/pandas-docs/stable/user_guide/indexing.html#returning-a-view-versus-a-copy\n",
            "  df[item] = df['items'].apply(lambda x: int(item in x))\n",
            "<ipython-input-33-e3a6ef6bda81>:6: SettingWithCopyWarning: \n",
            "A value is trying to be set on a copy of a slice from a DataFrame.\n",
            "Try using .loc[row_indexer,col_indexer] = value instead\n",
            "\n",
            "See the caveats in the documentation: https://pandas.pydata.org/pandas-docs/stable/user_guide/indexing.html#returning-a-view-versus-a-copy\n",
            "  df[item] = df['items'].apply(lambda x: int(item in x))\n",
            "<ipython-input-33-e3a6ef6bda81>:6: SettingWithCopyWarning: \n",
            "A value is trying to be set on a copy of a slice from a DataFrame.\n",
            "Try using .loc[row_indexer,col_indexer] = value instead\n",
            "\n",
            "See the caveats in the documentation: https://pandas.pydata.org/pandas-docs/stable/user_guide/indexing.html#returning-a-view-versus-a-copy\n",
            "  df[item] = df['items'].apply(lambda x: int(item in x))\n",
            "<ipython-input-33-e3a6ef6bda81>:9: SettingWithCopyWarning: \n",
            "A value is trying to be set on a copy of a slice from a DataFrame\n",
            "\n",
            "See the caveats in the documentation: https://pandas.pydata.org/pandas-docs/stable/user_guide/indexing.html#returning-a-view-versus-a-copy\n",
            "  df.drop('items', axis=1, inplace=True)\n"
          ]
        }
      ]
    },
    {
      "cell_type": "code",
      "source": [
        "len(unique_items)"
      ],
      "metadata": {
        "colab": {
          "base_uri": "https://localhost:8080/"
        },
        "id": "mjSDqECq1F9L",
        "outputId": "38e9456b-890d-4268-90c0-5e63d04086ac"
      },
      "execution_count": 34,
      "outputs": [
        {
          "output_type": "stream",
          "name": "stderr",
          "text": [
            "/usr/local/lib/python3.9/dist-packages/ipykernel/ipkernel.py:283: DeprecationWarning: `should_run_async` will not call `transform_cell` automatically in the future. Please pass the result to `transformed_cell` argument and any exception that happen during thetransform in `preprocessing_exc_tuple` in IPython 7.17 and above.\n",
            "  and should_run_async(code)\n"
          ]
        },
        {
          "output_type": "execute_result",
          "data": {
            "text/plain": [
              "16"
            ]
          },
          "metadata": {},
          "execution_count": 34
        }
      ]
    },
    {
      "cell_type": "code",
      "source": [
        "df.head()"
      ],
      "metadata": {
        "colab": {
          "base_uri": "https://localhost:8080/",
          "height": 261
        },
        "id": "QYKBh6T-lP7t",
        "outputId": "957aa960-9f29-42d1-fdfc-9b43c0767a8f"
      },
      "execution_count": 35,
      "outputs": [
        {
          "output_type": "stream",
          "name": "stderr",
          "text": [
            "/usr/local/lib/python3.9/dist-packages/ipykernel/ipkernel.py:283: DeprecationWarning: `should_run_async` will not call `transform_cell` automatically in the future. Please pass the result to `transformed_cell` argument and any exception that happen during thetransform in `preprocessing_exc_tuple` in IPython 7.17 and above.\n",
            "  and should_run_async(code)\n"
          ]
        },
        {
          "output_type": "execute_result",
          "data": {
            "text/plain": [
              "   Tid  apple  bread  butter  cheese  chocolate  corn  dill  eggs  ice cream  \\\n",
              "0    0      0      1       0       0          1     1     1     0          1   \n",
              "1    1      0      0       0       0          0     0     0     0          0   \n",
              "2    2      1      0       1       0          1     0     1     0          1   \n",
              "3    3      0      0       1       1          0     0     1     0          0   \n",
              "4    4      1      1       0       0          0     0     0     0          0   \n",
              "\n",
              "   kidney beans  milk  nutmeg  onion  sugar  unicorn  yogurt  \n",
              "0             0     0       0      0      1        0       1  \n",
              "1             0     1       0      0      0        0       0  \n",
              "2             0     1       0      0      0        0       1  \n",
              "3             0     1       1      1      0        0       0  \n",
              "4             0     0       0      0      0        0       0  "
            ],
            "text/html": [
              "\n",
              "  <div id=\"df-3ada8a41-3c56-406d-af2b-72329382c03e\">\n",
              "    <div class=\"colab-df-container\">\n",
              "      <div>\n",
              "<style scoped>\n",
              "    .dataframe tbody tr th:only-of-type {\n",
              "        vertical-align: middle;\n",
              "    }\n",
              "\n",
              "    .dataframe tbody tr th {\n",
              "        vertical-align: top;\n",
              "    }\n",
              "\n",
              "    .dataframe thead th {\n",
              "        text-align: right;\n",
              "    }\n",
              "</style>\n",
              "<table border=\"1\" class=\"dataframe\">\n",
              "  <thead>\n",
              "    <tr style=\"text-align: right;\">\n",
              "      <th></th>\n",
              "      <th>Tid</th>\n",
              "      <th>apple</th>\n",
              "      <th>bread</th>\n",
              "      <th>butter</th>\n",
              "      <th>cheese</th>\n",
              "      <th>chocolate</th>\n",
              "      <th>corn</th>\n",
              "      <th>dill</th>\n",
              "      <th>eggs</th>\n",
              "      <th>ice cream</th>\n",
              "      <th>kidney beans</th>\n",
              "      <th>milk</th>\n",
              "      <th>nutmeg</th>\n",
              "      <th>onion</th>\n",
              "      <th>sugar</th>\n",
              "      <th>unicorn</th>\n",
              "      <th>yogurt</th>\n",
              "    </tr>\n",
              "  </thead>\n",
              "  <tbody>\n",
              "    <tr>\n",
              "      <th>0</th>\n",
              "      <td>0</td>\n",
              "      <td>0</td>\n",
              "      <td>1</td>\n",
              "      <td>0</td>\n",
              "      <td>0</td>\n",
              "      <td>1</td>\n",
              "      <td>1</td>\n",
              "      <td>1</td>\n",
              "      <td>0</td>\n",
              "      <td>1</td>\n",
              "      <td>0</td>\n",
              "      <td>0</td>\n",
              "      <td>0</td>\n",
              "      <td>0</td>\n",
              "      <td>1</td>\n",
              "      <td>0</td>\n",
              "      <td>1</td>\n",
              "    </tr>\n",
              "    <tr>\n",
              "      <th>1</th>\n",
              "      <td>1</td>\n",
              "      <td>0</td>\n",
              "      <td>0</td>\n",
              "      <td>0</td>\n",
              "      <td>0</td>\n",
              "      <td>0</td>\n",
              "      <td>0</td>\n",
              "      <td>0</td>\n",
              "      <td>0</td>\n",
              "      <td>0</td>\n",
              "      <td>0</td>\n",
              "      <td>1</td>\n",
              "      <td>0</td>\n",
              "      <td>0</td>\n",
              "      <td>0</td>\n",
              "      <td>0</td>\n",
              "      <td>0</td>\n",
              "    </tr>\n",
              "    <tr>\n",
              "      <th>2</th>\n",
              "      <td>2</td>\n",
              "      <td>1</td>\n",
              "      <td>0</td>\n",
              "      <td>1</td>\n",
              "      <td>0</td>\n",
              "      <td>1</td>\n",
              "      <td>0</td>\n",
              "      <td>1</td>\n",
              "      <td>0</td>\n",
              "      <td>1</td>\n",
              "      <td>0</td>\n",
              "      <td>1</td>\n",
              "      <td>0</td>\n",
              "      <td>0</td>\n",
              "      <td>0</td>\n",
              "      <td>0</td>\n",
              "      <td>1</td>\n",
              "    </tr>\n",
              "    <tr>\n",
              "      <th>3</th>\n",
              "      <td>3</td>\n",
              "      <td>0</td>\n",
              "      <td>0</td>\n",
              "      <td>1</td>\n",
              "      <td>1</td>\n",
              "      <td>0</td>\n",
              "      <td>0</td>\n",
              "      <td>1</td>\n",
              "      <td>0</td>\n",
              "      <td>0</td>\n",
              "      <td>0</td>\n",
              "      <td>1</td>\n",
              "      <td>1</td>\n",
              "      <td>1</td>\n",
              "      <td>0</td>\n",
              "      <td>0</td>\n",
              "      <td>0</td>\n",
              "    </tr>\n",
              "    <tr>\n",
              "      <th>4</th>\n",
              "      <td>4</td>\n",
              "      <td>1</td>\n",
              "      <td>1</td>\n",
              "      <td>0</td>\n",
              "      <td>0</td>\n",
              "      <td>0</td>\n",
              "      <td>0</td>\n",
              "      <td>0</td>\n",
              "      <td>0</td>\n",
              "      <td>0</td>\n",
              "      <td>0</td>\n",
              "      <td>0</td>\n",
              "      <td>0</td>\n",
              "      <td>0</td>\n",
              "      <td>0</td>\n",
              "      <td>0</td>\n",
              "      <td>0</td>\n",
              "    </tr>\n",
              "  </tbody>\n",
              "</table>\n",
              "</div>\n",
              "      <button class=\"colab-df-convert\" onclick=\"convertToInteractive('df-3ada8a41-3c56-406d-af2b-72329382c03e')\"\n",
              "              title=\"Convert this dataframe to an interactive table.\"\n",
              "              style=\"display:none;\">\n",
              "        \n",
              "  <svg xmlns=\"http://www.w3.org/2000/svg\" height=\"24px\"viewBox=\"0 0 24 24\"\n",
              "       width=\"24px\">\n",
              "    <path d=\"M0 0h24v24H0V0z\" fill=\"none\"/>\n",
              "    <path d=\"M18.56 5.44l.94 2.06.94-2.06 2.06-.94-2.06-.94-.94-2.06-.94 2.06-2.06.94zm-11 1L8.5 8.5l.94-2.06 2.06-.94-2.06-.94L8.5 2.5l-.94 2.06-2.06.94zm10 10l.94 2.06.94-2.06 2.06-.94-2.06-.94-.94-2.06-.94 2.06-2.06.94z\"/><path d=\"M17.41 7.96l-1.37-1.37c-.4-.4-.92-.59-1.43-.59-.52 0-1.04.2-1.43.59L10.3 9.45l-7.72 7.72c-.78.78-.78 2.05 0 2.83L4 21.41c.39.39.9.59 1.41.59.51 0 1.02-.2 1.41-.59l7.78-7.78 2.81-2.81c.8-.78.8-2.07 0-2.86zM5.41 20L4 18.59l7.72-7.72 1.47 1.35L5.41 20z\"/>\n",
              "  </svg>\n",
              "      </button>\n",
              "      \n",
              "  <style>\n",
              "    .colab-df-container {\n",
              "      display:flex;\n",
              "      flex-wrap:wrap;\n",
              "      gap: 12px;\n",
              "    }\n",
              "\n",
              "    .colab-df-convert {\n",
              "      background-color: #E8F0FE;\n",
              "      border: none;\n",
              "      border-radius: 50%;\n",
              "      cursor: pointer;\n",
              "      display: none;\n",
              "      fill: #1967D2;\n",
              "      height: 32px;\n",
              "      padding: 0 0 0 0;\n",
              "      width: 32px;\n",
              "    }\n",
              "\n",
              "    .colab-df-convert:hover {\n",
              "      background-color: #E2EBFA;\n",
              "      box-shadow: 0px 1px 2px rgba(60, 64, 67, 0.3), 0px 1px 3px 1px rgba(60, 64, 67, 0.15);\n",
              "      fill: #174EA6;\n",
              "    }\n",
              "\n",
              "    [theme=dark] .colab-df-convert {\n",
              "      background-color: #3B4455;\n",
              "      fill: #D2E3FC;\n",
              "    }\n",
              "\n",
              "    [theme=dark] .colab-df-convert:hover {\n",
              "      background-color: #434B5C;\n",
              "      box-shadow: 0px 1px 3px 1px rgba(0, 0, 0, 0.15);\n",
              "      filter: drop-shadow(0px 1px 2px rgba(0, 0, 0, 0.3));\n",
              "      fill: #FFFFFF;\n",
              "    }\n",
              "  </style>\n",
              "\n",
              "      <script>\n",
              "        const buttonEl =\n",
              "          document.querySelector('#df-3ada8a41-3c56-406d-af2b-72329382c03e button.colab-df-convert');\n",
              "        buttonEl.style.display =\n",
              "          google.colab.kernel.accessAllowed ? 'block' : 'none';\n",
              "\n",
              "        async function convertToInteractive(key) {\n",
              "          const element = document.querySelector('#df-3ada8a41-3c56-406d-af2b-72329382c03e');\n",
              "          const dataTable =\n",
              "            await google.colab.kernel.invokeFunction('convertToInteractive',\n",
              "                                                     [key], {});\n",
              "          if (!dataTable) return;\n",
              "\n",
              "          const docLinkHtml = 'Like what you see? Visit the ' +\n",
              "            '<a target=\"_blank\" href=https://colab.research.google.com/notebooks/data_table.ipynb>data table notebook</a>'\n",
              "            + ' to learn more about interactive tables.';\n",
              "          element.innerHTML = '';\n",
              "          dataTable['output_type'] = 'display_data';\n",
              "          await google.colab.output.renderOutput(dataTable, element);\n",
              "          const docLink = document.createElement('div');\n",
              "          docLink.innerHTML = docLinkHtml;\n",
              "          element.appendChild(docLink);\n",
              "        }\n",
              "      </script>\n",
              "    </div>\n",
              "  </div>\n",
              "  "
            ]
          },
          "metadata": {},
          "execution_count": 35
        }
      ]
    },
    {
      "cell_type": "code",
      "source": [
        "len(df['Tid'])"
      ],
      "metadata": {
        "colab": {
          "base_uri": "https://localhost:8080/"
        },
        "id": "bIdFsy5fRZ4n",
        "outputId": "2abd85a7-75bb-45bb-b110-ff43635852e3"
      },
      "execution_count": 36,
      "outputs": [
        {
          "output_type": "stream",
          "name": "stderr",
          "text": [
            "/usr/local/lib/python3.9/dist-packages/ipykernel/ipkernel.py:283: DeprecationWarning: `should_run_async` will not call `transform_cell` automatically in the future. Please pass the result to `transformed_cell` argument and any exception that happen during thetransform in `preprocessing_exc_tuple` in IPython 7.17 and above.\n",
            "  and should_run_async(code)\n"
          ]
        },
        {
          "output_type": "execute_result",
          "data": {
            "text/plain": [
              "920"
            ]
          },
          "metadata": {},
          "execution_count": 36
        }
      ]
    },
    {
      "cell_type": "markdown",
      "metadata": {
        "id": "BXSjLdVGh4JK"
      },
      "source": [
        "#4.\tExecute Apriori algorithm and generate rules for 3 different combinations of support and confidence"
      ]
    },
    {
      "cell_type": "markdown",
      "metadata": {
        "id": "h-gx36Qrh4JK"
      },
      "source": [
        "For each of the combinations in tasks 4 & 5, print the output in the following Sample format: \n",
        "\n",
        "- Support = 0.02\n",
        "- Confidence = 0.1\n",
        "- Total Number of Association Rules: 10\n",
        "- Top 5 rules ordered by Confidence descending:\n",
        "- Number of Maximal Sets: 5\n",
        "- Number of Closed Sets: 5"
      ]
    },
    {
      "cell_type": "markdown",
      "source": [
        "A classic algorithm, the Apriori algorithm creates common itemsets from a dataset. It employs a bottom-up methodology, first by identifying the often occurring individual items before iteratively combining these things into larger sets until no further frequently occurring item sets can be discovered."
      ],
      "metadata": {
        "id": "OIMmmNxNg1MN"
      }
    },
    {
      "cell_type": "markdown",
      "source": [
        "support for each item is calculated by it total number of appearnce/ total number of trasaction will give you the support % of each item then we compare the minimum support given and any item whose support value is less then the minimum support % will be eliminated. selected items will now qualify, we can do a ordered set (a pair/ combination of all items) of items that appear together and remove their support % and eliminate those below minimum support %. then the selected pairs for 3 items set if the pair sets have comman values in then we make a triple set( we form combination of pairs to form triple item) and then calculate the support and choose the one's greater than mininmum support and so on."
      ],
      "metadata": {
        "id": "lnVerML8R8vm"
      }
    },
    {
      "cell_type": "markdown",
      "source": [
        "confidence is calculated by: confidence (a-->b)= support(a U b)/ support (a)"
      ],
      "metadata": {
        "id": "KvFaUhKDTsYW"
      }
    },
    {
      "cell_type": "markdown",
      "source": [
        "A maximal itemset is an itemset that is frequent but none of its supersets are frequent. In other words, a maximal itemset is not a subset of any other frequent itemset in the dataset"
      ],
      "metadata": {
        "id": "9vfu8kl-m_XF"
      }
    },
    {
      "cell_type": "markdown",
      "source": [
        "A closed itemset is an itemset that is frequent and none of its immediate supersets have the same support count as the itemset itself. In other words, a closed itemset is not a subset of any other frequent itemset with the same support count"
      ],
      "metadata": {
        "id": "g8xsfDbxnAvy"
      }
    },
    {
      "cell_type": "markdown",
      "source": [
        "This code will loop over three different combinations of minimum support and minimum confidence, generate frequent itemsets using Apriori algorithm, generate association rules using the specified minimum confidence threshold, sort the rules by confidence descending and print the top 5 rules, and count the number of maximal and closed sets. The output will be printed in the specified format given above for each combination of minimum support and minimum confidence."
      ],
      "metadata": {
        "id": "A87MIbzbnMlq"
      }
    },
    {
      "cell_type": "code",
      "execution_count": 37,
      "metadata": {
        "id": "nishKcZ7h4JK",
        "colab": {
          "base_uri": "https://localhost:8080/"
        },
        "outputId": "269f6703-2425-4f47-e40e-e935086dc5e5"
      },
      "outputs": [
        {
          "output_type": "stream",
          "name": "stderr",
          "text": [
            "/usr/local/lib/python3.9/dist-packages/ipykernel/ipkernel.py:283: DeprecationWarning: `should_run_async` will not call `transform_cell` automatically in the future. Please pass the result to `transformed_cell` argument and any exception that happen during thetransform in `preprocessing_exc_tuple` in IPython 7.17 and above.\n",
            "  and should_run_async(code)\n",
            "/usr/local/lib/python3.9/dist-packages/mlxtend/frequent_patterns/fpcommon.py:110: DeprecationWarning: DataFrames with non-bool types result in worse computationalperformance and their support might be discontinued in the future.Please use a DataFrame with bool type\n",
            "  warnings.warn(\n"
          ]
        },
        {
          "output_type": "stream",
          "name": "stdout",
          "text": [
            "Support = 0.02\n",
            "Confidence = 0.1\n",
            "Total Number of Association Rules: 112457\n",
            "Top 5 rules ordered by Confidence descending:\n",
            "['unicorn', 'milk', 'corn', 'nutmeg', 'bread'] -> ['kidney beans']: Confidence = 0.9047619047619047\n",
            "['milk', 'corn', 'nutmeg', 'butter', 'bread'] -> ['kidney beans']: Confidence = 0.875\n",
            "['kidney beans', 'unicorn', 'chocolate', 'sugar', 'bread'] -> ['yogurt']: Confidence = 0.8333333333333334\n",
            "['kidney beans', 'dill', 'unicorn', 'corn', 'sugar'] -> ['cheese']: Confidence = 0.826086956521739\n",
            "['milk', 'corn', 'sugar', 'nutmeg', 'butter'] -> ['kidney beans']: Confidence = 0.826086956521739\n",
            "Number of Maximal Sets: 5916\n",
            "Number of Closed Sets: 5916\n",
            "\n",
            "\n"
          ]
        },
        {
          "output_type": "stream",
          "name": "stderr",
          "text": [
            "/usr/local/lib/python3.9/dist-packages/mlxtend/frequent_patterns/fpcommon.py:110: DeprecationWarning: DataFrames with non-bool types result in worse computationalperformance and their support might be discontinued in the future.Please use a DataFrame with bool type\n",
            "  warnings.warn(\n"
          ]
        },
        {
          "output_type": "stream",
          "name": "stdout",
          "text": [
            "Support = 0.04\n",
            "Confidence = 0.2\n",
            "Total Number of Association Rules: 19094\n",
            "Top 5 rules ordered by Confidence descending:\n",
            "['milk', 'dill', 'unicorn'] -> ['chocolate']: Confidence = 0.6813186813186813\n",
            "['eggs', 'apple', 'unicorn'] -> ['corn']: Confidence = 0.6764705882352942\n",
            "['cheese', 'sugar', 'unicorn'] -> ['kidney beans']: Confidence = 0.6625\n",
            "['eggs', 'dill', 'bread'] -> ['yogurt']: Confidence = 0.6617647058823529\n",
            "['milk', 'dill', 'cheese'] -> ['chocolate']: Confidence = 0.6547619047619048\n",
            "Number of Maximal Sets: 2288\n",
            "Number of Closed Sets: 2288\n",
            "\n",
            "\n"
          ]
        },
        {
          "output_type": "stream",
          "name": "stderr",
          "text": [
            "/usr/local/lib/python3.9/dist-packages/mlxtend/frequent_patterns/fpcommon.py:110: DeprecationWarning: DataFrames with non-bool types result in worse computationalperformance and their support might be discontinued in the future.Please use a DataFrame with bool type\n",
            "  warnings.warn(\n"
          ]
        },
        {
          "output_type": "stream",
          "name": "stdout",
          "text": [
            "Support = 0.06\n",
            "Confidence = 0.3\n",
            "Total Number of Association Rules: 2017\n",
            "Top 5 rules ordered by Confidence descending:\n",
            "['milk', 'dill', 'unicorn'] -> ['chocolate']: Confidence = 0.6813186813186813\n",
            "['onion', 'dill', 'unicorn'] -> ['chocolate']: Confidence = 0.6413043478260869\n",
            "['milk', 'chocolate', 'unicorn'] -> ['dill']: Confidence = 0.6391752577319587\n",
            "['kidney beans', 'corn', 'bread'] -> ['milk']: Confidence = 0.6333333333333333\n",
            "['milk', 'corn', 'bread'] -> ['kidney beans']: Confidence = 0.6333333333333333\n",
            "Number of Maximal Sets: 710\n",
            "Number of Closed Sets: 710\n",
            "\n",
            "\n"
          ]
        }
      ],
      "source": [
        "# Write your code here\n",
        "\n",
        "# Define the minimum support and minimum confidence values\n",
        "min_support_list = [0.02, 0.04, 0.06]\n",
        "min_confidence_list = [0.1, 0.2, 0.3]\n",
        "\n",
        "# Loop over the minimum support and minimum confidence values\n",
        "for min_support, min_confidence in zip(min_support_list, min_confidence_list):\n",
        "\n",
        "    # Generate frequent itemsets using Apriori algorithm\n",
        "    frequent_itemsets = apriori(df.drop('Tid', axis=1), min_support=min_support, use_colnames=True)\n",
        "\n",
        "    # Generate association rules\n",
        "    rules = association_rules(frequent_itemsets, metric=\"confidence\", min_threshold=min_confidence)\n",
        "\n",
        "    #generate maximal sets\n",
        "    maximal_sets = frequent_itemsets[~frequent_itemsets[\"itemsets\"].apply(lambda x: any(frequent_itemsets[\"itemsets\"].apply(lambda y: set(x).issubset(set(y))) & (frequent_itemsets[\"support\"] > frequent_itemsets[frequent_itemsets[\"itemsets\"] == x][\"support\"].values[0])))]\n",
        "\n",
        "    #generate closed sets\n",
        "    closed_sets = frequent_itemsets[frequent_itemsets[\"support\"] == frequent_itemsets[\"support\"]]\n",
        "\n",
        "\n",
        "    # Print the output in the specified format\n",
        "    print(\"Support = {}\".format(min_support))\n",
        "    print(\"Confidence = {}\".format(min_confidence))\n",
        "    print(\"Total Number of Association Rules: {}\".format(len(rules)))\n",
        "\n",
        "    # Sort the rules by confidence descending and print the top 5 rules\n",
        "    top_rules = rules.sort_values(by='confidence', ascending=False).head(5)\n",
        "    print(\"Top 5 rules ordered by Confidence descending:\")\n",
        "    for index, row in top_rules.iterrows():\n",
        "        antecedents = list(row['antecedents']) #antecedent (a set of items that appear together in the transactions)\n",
        "        consequents = list(row['consequents']) #consequent (an item that frequently appears after the antecedent)\n",
        "        print(\"{} -> {}: Confidence = {}\".format(antecedents, consequents, row['confidence']))\n",
        "    print(\"Number of Maximal Sets: {}\".format(len(maximal_sets)))#the number of sets that are not a subset of any other sets in the dataset\n",
        "    print(\"Number of Closed Sets: {}\".format(len(closed_sets))) #The number of closed sets is the number of sets that have the same support as their supersets.\n",
        "    print('\\n')"
      ]
    },
    {
      "cell_type": "markdown",
      "source": [
        "some observations that can be made are-\n",
        "1.   It seems that the rules generated by each set of parameters (support and confidence thresholds) are quite different.This suggests that the lower the support and confidence thresholds, the more rules will be generated. \n",
        "2. the top rules generated by each set of parameters are quite different, This suggests that the specific ingredients involved in the top rules generated can vary depending on the support and confidence thresholds used.\n",
        "1.  the number of maximal and closed sets generated also varies depending on the support and confidence thresholds used. It appears that as the support and confidence thresholds are increased, the number of maximal and closed sets generated decreases. This makes sense because higher thresholds are likely to result in fewer rules being generated overall, and thus fewer sets that meet the criteria for being maximal or closed.\n",
        "\n"
      ],
      "metadata": {
        "id": "YPuov4yIUpE_"
      }
    },
    {
      "cell_type": "markdown",
      "metadata": {
        "id": "dUgBF6UOh4JK"
      },
      "source": [
        "#5.    Execute FP Growth algorithm and generate rules for 3 different combinations of support and confidence"
      ]
    },
    {
      "cell_type": "markdown",
      "source": [
        "The (frequent pattern) FP-growth technique, in contrast, is a more effective algorithm that encodes the frequency of itemsets in the dataset using a small data structure called an FP-tree. The algorithm then generates candidate itemsets by iteratively traversing the FP-tree and mining frequent itemsets from it. For larger datasets, FP-growth requires just one pass through the data and is typically quicker than Apriori.\n"
      ],
      "metadata": {
        "id": "tbjqMB8sfy4D"
      }
    },
    {
      "cell_type": "code",
      "source": [
        "# Define the minimum support and confidence thresholds\n",
        "support_thresholds = [0.02, 0.04, 0.06]\n",
        "confidence_thresholds = [0.1, 0.2, 0.3]\n",
        "\n",
        "# Run FP Growth algorithm and generate association rules for each combination of thresholds\n",
        "for supp, conf in zip (support_thresholds, confidence_thresholds):\n",
        "        frequent_itemsets = fpgrowth(df.drop('Tid', axis=1), min_support=supp, use_colnames=True)\n",
        "        rules = association_rules(frequent_itemsets, metric=\"confidence\", min_threshold=conf)\n",
        "        maximal_sets = frequent_itemsets[~frequent_itemsets[\"itemsets\"].apply(lambda x: any(frequent_itemsets[\"itemsets\"].apply(lambda y: set(x).issubset(set(y))) & (frequent_itemsets[\"support\"] > frequent_itemsets[frequent_itemsets[\"itemsets\"] == x][\"support\"].values[0])))]\n",
        "        closed_sets = frequent_itemsets[frequent_itemsets[\"support\"] == frequent_itemsets[\"support\"]]\n",
        "\n",
        "\n",
        "        # Print the results\n",
        "        print(\"Support = {}\".format(supp))\n",
        "        print(\"Confidence = {}\".format(conf)) \n",
        "        print(\"Total Number of Association Rules: {}\".format(len(rules)))\n",
        "        print(\"Top 5 rules ordered by Confidence descending:\")\n",
        "    # Sort the rules by confidence descending and print the top 5 rules\n",
        "        top_rules = rules.sort_values(by='confidence', ascending=False).head(5)\n",
        "        print(\"Top 5 rules ordered by Confidence descending:\")\n",
        "        for index, row in top_rules.iterrows():\n",
        "          antecedents = list(row['antecedents']) #antecedent (a set of items that appear together in the transactions)\n",
        "          consequents = list(row['consequents']) #consequent (an item that frequently appears after the antecedent)\n",
        "          print(\"{} -> {}: Confidence = {}\".format(antecedents, consequents, row['confidence']))\n",
        "        print(\"Number of Maximal Sets: {}\".format(len(maximal_sets)))#the number of sets that are not a subset of any other sets in the dataset\n",
        "        print(\"Number of Closed Sets: {}\".format(len(closed_sets))) #The number of closed sets is the number of sets that have the same support as their supersets.\n",
        "        print('\\n')"
      ],
      "metadata": {
        "colab": {
          "base_uri": "https://localhost:8080/"
        },
        "id": "Wg1J09e8EH1p",
        "outputId": "973b0938-ddf3-47c5-a7cc-a69db5337026"
      },
      "execution_count": 38,
      "outputs": [
        {
          "output_type": "stream",
          "name": "stderr",
          "text": [
            "/usr/local/lib/python3.9/dist-packages/ipykernel/ipkernel.py:283: DeprecationWarning: `should_run_async` will not call `transform_cell` automatically in the future. Please pass the result to `transformed_cell` argument and any exception that happen during thetransform in `preprocessing_exc_tuple` in IPython 7.17 and above.\n",
            "  and should_run_async(code)\n",
            "/usr/local/lib/python3.9/dist-packages/mlxtend/frequent_patterns/fpcommon.py:110: DeprecationWarning: DataFrames with non-bool types result in worse computationalperformance and their support might be discontinued in the future.Please use a DataFrame with bool type\n",
            "  warnings.warn(\n"
          ]
        },
        {
          "output_type": "stream",
          "name": "stdout",
          "text": [
            "Support = 0.02\n",
            "Confidence = 0.1\n",
            "Total Number of Association Rules: 112457\n",
            "Top 5 rules ordered by Confidence descending:\n",
            "Top 5 rules ordered by Confidence descending:\n",
            "['unicorn', 'milk', 'corn', 'nutmeg', 'bread'] -> ['kidney beans']: Confidence = 0.9047619047619047\n",
            "['milk', 'corn', 'nutmeg', 'butter', 'bread'] -> ['kidney beans']: Confidence = 0.875\n",
            "['kidney beans', 'unicorn', 'chocolate', 'sugar', 'bread'] -> ['yogurt']: Confidence = 0.8333333333333334\n",
            "['kidney beans', 'dill', 'unicorn', 'corn', 'sugar'] -> ['cheese']: Confidence = 0.826086956521739\n",
            "['milk', 'corn', 'sugar', 'nutmeg', 'butter'] -> ['kidney beans']: Confidence = 0.826086956521739\n",
            "Number of Maximal Sets: 5916\n",
            "Number of Closed Sets: 5916\n",
            "\n",
            "\n"
          ]
        },
        {
          "output_type": "stream",
          "name": "stderr",
          "text": [
            "/usr/local/lib/python3.9/dist-packages/mlxtend/frequent_patterns/fpcommon.py:110: DeprecationWarning: DataFrames with non-bool types result in worse computationalperformance and their support might be discontinued in the future.Please use a DataFrame with bool type\n",
            "  warnings.warn(\n"
          ]
        },
        {
          "output_type": "stream",
          "name": "stdout",
          "text": [
            "Support = 0.04\n",
            "Confidence = 0.2\n",
            "Total Number of Association Rules: 19094\n",
            "Top 5 rules ordered by Confidence descending:\n",
            "Top 5 rules ordered by Confidence descending:\n",
            "['milk', 'dill', 'unicorn'] -> ['chocolate']: Confidence = 0.6813186813186813\n",
            "['eggs', 'apple', 'unicorn'] -> ['corn']: Confidence = 0.6764705882352942\n",
            "['cheese', 'sugar', 'unicorn'] -> ['kidney beans']: Confidence = 0.6625\n",
            "['eggs', 'dill', 'bread'] -> ['yogurt']: Confidence = 0.6617647058823529\n",
            "['yogurt', 'cheese', 'ice cream'] -> ['kidney beans']: Confidence = 0.6547619047619048\n",
            "Number of Maximal Sets: 2288\n",
            "Number of Closed Sets: 2288\n",
            "\n",
            "\n"
          ]
        },
        {
          "output_type": "stream",
          "name": "stderr",
          "text": [
            "/usr/local/lib/python3.9/dist-packages/mlxtend/frequent_patterns/fpcommon.py:110: DeprecationWarning: DataFrames with non-bool types result in worse computationalperformance and their support might be discontinued in the future.Please use a DataFrame with bool type\n",
            "  warnings.warn(\n"
          ]
        },
        {
          "output_type": "stream",
          "name": "stdout",
          "text": [
            "Support = 0.06\n",
            "Confidence = 0.3\n",
            "Total Number of Association Rules: 2017\n",
            "Top 5 rules ordered by Confidence descending:\n",
            "Top 5 rules ordered by Confidence descending:\n",
            "['milk', 'dill', 'unicorn'] -> ['chocolate']: Confidence = 0.6813186813186813\n",
            "['onion', 'dill', 'unicorn'] -> ['chocolate']: Confidence = 0.6413043478260869\n",
            "['milk', 'chocolate', 'unicorn'] -> ['dill']: Confidence = 0.6391752577319587\n",
            "['kidney beans', 'corn', 'bread'] -> ['milk']: Confidence = 0.6333333333333333\n",
            "['milk', 'corn', 'bread'] -> ['kidney beans']: Confidence = 0.6333333333333333\n",
            "Number of Maximal Sets: 710\n",
            "Number of Closed Sets: 710\n",
            "\n",
            "\n"
          ]
        }
      ]
    },
    {
      "cell_type": "markdown",
      "metadata": {
        "id": "IhUyn8R3h4JL"
      },
      "source": [
        "#6.\tPlot the following graphs comparing both the algorithms:\n",
        "    - time vs minimum support\n",
        "    - time vs number of itemsets"
      ]
    },
    {
      "cell_type": "markdown",
      "source": [
        "the plot the time vs. minimum support graph, we will run both Apriori and FP Growth algorithms for different minimum support values and record the execution time. We will use the time library to record the execution time of the algorithms. Then we will plot the execution time against the minimum support values.\n",
        "\n",
        "Here's the code for plotting the time vs minimum support graph:\n"
      ],
      "metadata": {
        "id": "NVE5sEFenyhT"
      }
    },
    {
      "cell_type": "code",
      "source": [
        "import time\n",
        "\n",
        "# Define the minimum support values\n",
        "support_values = [0.02, 0.04, 0.06, 0.08, 0.1]\n",
        "\n",
        "# Define empty lists to store execution times\n",
        "apriori_times = []\n",
        "fp_growth_times = []\n",
        "\n",
        "# Run Apriori and FP Growth algorithms for each support value and record the execution time\n",
        "for supp in support_values:\n",
        "    start_time = time.time()\n",
        "    apriori(df.drop('Tid', axis=1), supp, 1)\n",
        "    apriori_time = time.time() - start_time\n",
        "    apriori_times.append(apriori_time)\n",
        "    \n",
        "    start_time = time.time()\n",
        "    fpgrowth(df.drop('Tid', axis=1), min_support=supp)\n",
        "    fp_growth_time = time.time() - start_time\n",
        "    fp_growth_times.append(fp_growth_time)\n",
        "    \n",
        "# Plot the execution times against the minimum support values\n",
        "plt.plot(support_values, apriori_times, label='Apriori')\n",
        "plt.plot(support_values, fp_growth_times, label='FP Growth')\n",
        "plt.xlabel('Minimum Support')\n",
        "plt.ylabel('Execution Time (seconds)')\n",
        "plt.title('Time vs Minimum Support')\n",
        "plt.legend()\n",
        "plt.show()"
      ],
      "metadata": {
        "colab": {
          "base_uri": "https://localhost:8080/",
          "height": 874
        },
        "id": "kVBBsWK0KRx9",
        "outputId": "89fe666b-68c2-4030-9531-af7d5cfb7370"
      },
      "execution_count": 39,
      "outputs": [
        {
          "output_type": "stream",
          "name": "stderr",
          "text": [
            "/usr/local/lib/python3.9/dist-packages/ipykernel/ipkernel.py:283: DeprecationWarning: `should_run_async` will not call `transform_cell` automatically in the future. Please pass the result to `transformed_cell` argument and any exception that happen during thetransform in `preprocessing_exc_tuple` in IPython 7.17 and above.\n",
            "  and should_run_async(code)\n",
            "/usr/local/lib/python3.9/dist-packages/mlxtend/frequent_patterns/fpcommon.py:110: DeprecationWarning: DataFrames with non-bool types result in worse computationalperformance and their support might be discontinued in the future.Please use a DataFrame with bool type\n",
            "  warnings.warn(\n",
            "/usr/local/lib/python3.9/dist-packages/mlxtend/frequent_patterns/fpcommon.py:110: DeprecationWarning: DataFrames with non-bool types result in worse computationalperformance and their support might be discontinued in the future.Please use a DataFrame with bool type\n",
            "  warnings.warn(\n",
            "/usr/local/lib/python3.9/dist-packages/mlxtend/frequent_patterns/fpcommon.py:110: DeprecationWarning: DataFrames with non-bool types result in worse computationalperformance and their support might be discontinued in the future.Please use a DataFrame with bool type\n",
            "  warnings.warn(\n",
            "/usr/local/lib/python3.9/dist-packages/mlxtend/frequent_patterns/fpcommon.py:110: DeprecationWarning: DataFrames with non-bool types result in worse computationalperformance and their support might be discontinued in the future.Please use a DataFrame with bool type\n",
            "  warnings.warn(\n",
            "/usr/local/lib/python3.9/dist-packages/mlxtend/frequent_patterns/fpcommon.py:110: DeprecationWarning: DataFrames with non-bool types result in worse computationalperformance and their support might be discontinued in the future.Please use a DataFrame with bool type\n",
            "  warnings.warn(\n",
            "/usr/local/lib/python3.9/dist-packages/mlxtend/frequent_patterns/fpcommon.py:110: DeprecationWarning: DataFrames with non-bool types result in worse computationalperformance and their support might be discontinued in the future.Please use a DataFrame with bool type\n",
            "  warnings.warn(\n",
            "/usr/local/lib/python3.9/dist-packages/mlxtend/frequent_patterns/fpcommon.py:110: DeprecationWarning: DataFrames with non-bool types result in worse computationalperformance and their support might be discontinued in the future.Please use a DataFrame with bool type\n",
            "  warnings.warn(\n",
            "/usr/local/lib/python3.9/dist-packages/mlxtend/frequent_patterns/fpcommon.py:110: DeprecationWarning: DataFrames with non-bool types result in worse computationalperformance and their support might be discontinued in the future.Please use a DataFrame with bool type\n",
            "  warnings.warn(\n",
            "/usr/local/lib/python3.9/dist-packages/mlxtend/frequent_patterns/fpcommon.py:110: DeprecationWarning: DataFrames with non-bool types result in worse computationalperformance and their support might be discontinued in the future.Please use a DataFrame with bool type\n",
            "  warnings.warn(\n",
            "/usr/local/lib/python3.9/dist-packages/mlxtend/frequent_patterns/fpcommon.py:110: DeprecationWarning: DataFrames with non-bool types result in worse computationalperformance and their support might be discontinued in the future.Please use a DataFrame with bool type\n",
            "  warnings.warn(\n"
          ]
        },
        {
          "output_type": "display_data",
          "data": {
            "text/plain": [
              "<Figure size 640x480 with 1 Axes>"
            ],
            "image/png": "[encoded data removed]"
          },
          "metadata": {}
        }
      ]
    },
    {
      "cell_type": "markdown",
      "source": [
        "Note that the execution time and the number of itemsets generated will vary based on the hardware and software environment. The above code is just an example, and the results may vary based on the environment in which it is executed."
      ],
      "metadata": {
        "id": "ciUYsX0xn4a7"
      }
    },
    {
      "cell_type": "code",
      "source": [
        "import matplotlib.pyplot as plt\n",
        "\n",
        "# Define the minimum support values\n",
        "support_values = [0.02, 0.04, 0.06, 0.08, 0.1]\n",
        "\n",
        "# Define empty lists to store number of itemsets and execution times\n",
        "apriori_itemsets = []\n",
        "fp_growth_itemsets = []\n",
        "apriori_times = []\n",
        "fp_growth_times = []\n",
        "\n",
        "# Run Apriori and FP Growth algorithms for each support value and record the number of itemsets and execution time\n",
        "for supp in support_values:\n",
        "    start_time = time.time()\n",
        "    freq_itemsets = apriori(df.drop('Tid', axis=1), supp, 1)\n",
        "    apriori_itemsets.append(len(freq_itemsets))\n",
        "    apriori_time = time.time() - start_time\n",
        "    apriori_times.append(apriori_time)\n",
        "    \n",
        "    start_time = time.time()\n",
        "    freq_itemsets = fpgrowth(df.drop('Tid', axis=1), min_support=supp)\n",
        "    fp_growth_itemsets.append(len(freq_itemsets))\n",
        "    fp_growth_time = time.time() - start_time\n",
        "    fp_growth_times.append(fp_growth_time)\n",
        "    \n",
        "# Plot the number of itemsets against the execution time for both algorithms\n",
        "plt.scatter(apriori_itemsets, apriori_times, label='Apriori')\n",
        "plt.scatter(fp_growth_itemsets, fp_growth_times, label='FP Growth')\n",
        "plt.xlabel('Number of Itemsets')\n",
        "plt.ylabel('Execution Time (seconds)')\n",
        "plt.title('Time vs Number of Itemsets')\n",
        "plt.legend()\n",
        "plt.show()\n"
      ],
      "metadata": {
        "colab": {
          "base_uri": "https://localhost:8080/",
          "height": 874
        },
        "id": "bxikBqfcO_ve",
        "outputId": "69178121-a63f-4d28-d2de-5da70c2228d2"
      },
      "execution_count": 40,
      "outputs": [
        {
          "output_type": "stream",
          "name": "stderr",
          "text": [
            "/usr/local/lib/python3.9/dist-packages/ipykernel/ipkernel.py:283: DeprecationWarning: `should_run_async` will not call `transform_cell` automatically in the future. Please pass the result to `transformed_cell` argument and any exception that happen during thetransform in `preprocessing_exc_tuple` in IPython 7.17 and above.\n",
            "  and should_run_async(code)\n",
            "/usr/local/lib/python3.9/dist-packages/mlxtend/frequent_patterns/fpcommon.py:110: DeprecationWarning: DataFrames with non-bool types result in worse computationalperformance and their support might be discontinued in the future.Please use a DataFrame with bool type\n",
            "  warnings.warn(\n",
            "/usr/local/lib/python3.9/dist-packages/mlxtend/frequent_patterns/fpcommon.py:110: DeprecationWarning: DataFrames with non-bool types result in worse computationalperformance and their support might be discontinued in the future.Please use a DataFrame with bool type\n",
            "  warnings.warn(\n",
            "/usr/local/lib/python3.9/dist-packages/mlxtend/frequent_patterns/fpcommon.py:110: DeprecationWarning: DataFrames with non-bool types result in worse computationalperformance and their support might be discontinued in the future.Please use a DataFrame with bool type\n",
            "  warnings.warn(\n",
            "/usr/local/lib/python3.9/dist-packages/mlxtend/frequent_patterns/fpcommon.py:110: DeprecationWarning: DataFrames with non-bool types result in worse computationalperformance and their support might be discontinued in the future.Please use a DataFrame with bool type\n",
            "  warnings.warn(\n",
            "/usr/local/lib/python3.9/dist-packages/mlxtend/frequent_patterns/fpcommon.py:110: DeprecationWarning: DataFrames with non-bool types result in worse computationalperformance and their support might be discontinued in the future.Please use a DataFrame with bool type\n",
            "  warnings.warn(\n",
            "/usr/local/lib/python3.9/dist-packages/mlxtend/frequent_patterns/fpcommon.py:110: DeprecationWarning: DataFrames with non-bool types result in worse computationalperformance and their support might be discontinued in the future.Please use a DataFrame with bool type\n",
            "  warnings.warn(\n",
            "/usr/local/lib/python3.9/dist-packages/mlxtend/frequent_patterns/fpcommon.py:110: DeprecationWarning: DataFrames with non-bool types result in worse computationalperformance and their support might be discontinued in the future.Please use a DataFrame with bool type\n",
            "  warnings.warn(\n",
            "/usr/local/lib/python3.9/dist-packages/mlxtend/frequent_patterns/fpcommon.py:110: DeprecationWarning: DataFrames with non-bool types result in worse computationalperformance and their support might be discontinued in the future.Please use a DataFrame with bool type\n",
            "  warnings.warn(\n",
            "/usr/local/lib/python3.9/dist-packages/mlxtend/frequent_patterns/fpcommon.py:110: DeprecationWarning: DataFrames with non-bool types result in worse computationalperformance and their support might be discontinued in the future.Please use a DataFrame with bool type\n",
            "  warnings.warn(\n",
            "/usr/local/lib/python3.9/dist-packages/mlxtend/frequent_patterns/fpcommon.py:110: DeprecationWarning: DataFrames with non-bool types result in worse computationalperformance and their support might be discontinued in the future.Please use a DataFrame with bool type\n",
            "  warnings.warn(\n"
          ]
        },
        {
          "output_type": "display_data",
          "data": {
            "text/plain": [
              "<Figure size 640x480 with 1 Axes>"
            ],
            "image/png": "[encoded data removed]"
          },
          "metadata": {}
        }
      ]
    },
    {
      "cell_type": "markdown",
      "metadata": {
        "id": "05lg0gfTh4JL"
      },
      "source": [
        "#7.    Explain the insights that you got from the graphs. Which algorithm worked better and what do you believe is the reason?"
      ]
    },
    {
      "cell_type": "markdown",
      "source": [
        "Based on the graphs, it seems that Apriori algorithm is faster than FP Growth algorithm for the given dataset and parameter values. \n",
        "\n",
        "1.   The execution time of both algorithms generally decreases as the minimum support increases. This is because when the minimum support is higher, the number of frequent itemsets generated by the algorithms decreases, which means that the algorithms have to process fewer itemsets and can thus complete their execution faster. FP-Growth have a steeper decrease in execution time compared to Apriori consistently performs faster\n",
        "2.Similarly, the time vs number of itemsets graph as the number of itemsets increases, the algorithm has to go through more data and perform more calculations, which can lead to a longer execution time. it shows that Apriori has a linear relationship between the number of itemsets and execution time, while FP Growth has a slightly steeper slope.\n",
        "3. Based on the graphs, it seems that Apriori worked better for the given dataset and combination of support and confidence thresholds. The reason for Apriori being faster than FP Growth in this case could be because the dataset has a small number of unique items and a relatively large number of transactions. Apriori generates candidate itemsets by joining frequent itemsets from the previous iteration, which can be more efficient for datasets with smaller itemsets. On the other hand, FP Growth builds a tree-like structure to represent the frequent itemsets, which can be more efficient for datasets with large itemsets.\n",
        "4.However, it's important to note that the performance of the algorithms can vary depending on the specific dataset and parameter values, and it's always a good idea to try out multiple algorithms and parameter combinations to find the best fit for a particular datase"
      ],
      "metadata": {
        "id": "zz1iVqN1aVVk"
      }
    },
    {
      "cell_type": "markdown",
      "metadata": {
        "id": "USb_soVC0XDc"
      },
      "source": [
        "# Rubric\n",
        "* [02 points] - Student Details and complying with submission instructions \n",
        "* [03 points] - Task 1 \n",
        "* [10 points] - Task 2\n",
        "* [05 points] - Task 3\n",
        "* [25 points] - Task 4\n",
        "* [25 points] - Task 5\n",
        "* [20 points] - task 6\n",
        "* [10 points] - task 7"
      ]
    }
  ],
  "metadata": {
    "colab": {
      "provenance": [],
      "collapsed_sections": [
        "uJX_XQ_ih4JI",
        "7P4pjPcmh4JJ",
        "UbuxNGnNisdy",
        "kpoLMo0jixKV",
        "3ExBz65vjeyj",
        "G4N91jQIkAPB",
        "Fug_x2emh4JJ",
        "BXSjLdVGh4JK",
        "dUgBF6UOh4JK",
        "IhUyn8R3h4JL",
        "05lg0gfTh4JL"
      ]
    },
    "kernelspec": {
      "display_name": "Python 3",
      "name": "python3"
    },
    "language_info": {
      "codemirror_mode": {
        "name": "ipython",
        "version": 3
      },
      "file_extension": ".py",
      "mimetype": "text/x-python",
      "name": "python",
      "nbconvert_exporter": "python",
      "pygments_lexer": "ipython3",
      "version": "3.9.13"
    }
  },
  "nbformat": 4,
  "nbformat_minor": 0
}